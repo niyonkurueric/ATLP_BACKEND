{
  "nbformat": 4,
  "nbformat_minor": 0,
  "metadata": {
    "colab": {
      "provenance": [],
      "authorship_tag": "ABX9TyORNl+PGQQ8RAG4GJTVDcDp",
      "include_colab_link": true
    },
    "kernelspec": {
      "name": "python3",
      "display_name": "Python 3"
    },
    "language_info": {
      "name": "python"
    }
  },
  "cells": [
    {
      "cell_type": "markdown",
      "metadata": {
        "id": "view-in-github",
        "colab_type": "text"
      },
      "source": [
        "<a href=\"https://colab.research.google.com/github/niyonkurueric/ATLP_BACKEND/blob/main/Eric_Niyonkuru_2401000707.ipynb\" target=\"_parent\"><img src=\"https://colab.research.google.com/assets/colab-badge.svg\" alt=\"Open In Colab\"/></a>"
      ]
    },
    {
      "cell_type": "code",
      "execution_count": 13,
      "metadata": {
        "id": "EI1AWqOcTi32"
      },
      "outputs": [],
      "source": [
        "import requests\n",
        "import json\n",
        "import webbrowser"
      ]
    },
    {
      "cell_type": "code",
      "source": [
        "!pip3 install requests"
      ],
      "metadata": {
        "colab": {
          "base_uri": "https://localhost:8080/"
        },
        "id": "5sKkjwY-T6d5",
        "outputId": "d02d6d97-fef3-4689-fa2a-dd1bbb9557ad"
      },
      "execution_count": 3,
      "outputs": [
        {
          "output_type": "stream",
          "name": "stdout",
          "text": [
            "Requirement already satisfied: requests in /usr/local/lib/python3.11/dist-packages (2.32.3)\n",
            "Requirement already satisfied: charset-normalizer<4,>=2 in /usr/local/lib/python3.11/dist-packages (from requests) (3.4.2)\n",
            "Requirement already satisfied: idna<4,>=2.5 in /usr/local/lib/python3.11/dist-packages (from requests) (3.10)\n",
            "Requirement already satisfied: urllib3<3,>=1.21.1 in /usr/local/lib/python3.11/dist-packages (from requests) (2.4.0)\n",
            "Requirement already satisfied: certifi>=2017.4.17 in /usr/local/lib/python3.11/dist-packages (from requests) (2025.7.9)\n"
          ]
        }
      ]
    },
    {
      "cell_type": "code",
      "source": [
        "result = requests.get('https://api.stackexchange.com/docs/questions#order=desc&sort=activity&filter=default&site=stackoverflow&run=true')\n",
        "print(result)"
      ],
      "metadata": {
        "colab": {
          "base_uri": "https://localhost:8080/"
        },
        "id": "vWCIW5MaZiTS",
        "outputId": "aea819b7-cf4f-425c-c3d1-8fb2b10f77f8"
      },
      "execution_count": 6,
      "outputs": [
        {
          "output_type": "stream",
          "name": "stdout",
          "text": [
            "<Response [200]>\n"
          ]
        }
      ]
    },
    {
      "cell_type": "code",
      "source": [
        "print(response.status_code)"
      ],
      "metadata": {
        "colab": {
          "base_uri": "https://localhost:8080/"
        },
        "id": "qH8YNmGtaWIb",
        "outputId": "8c13d9d9-7478-4474-e055-2ebefc930b04"
      },
      "execution_count": 22,
      "outputs": [
        {
          "output_type": "stream",
          "name": "stdout",
          "text": [
            "200\n"
          ]
        }
      ]
    },
    {
      "cell_type": "code",
      "source": [
        "data = response.json()\n",
        "\n",
        "questions = []\n",
        "for item in data.get('items', []):\n",
        "    question_info = {\n",
        "        'title': item.get('title'),\n",
        "        'link': item.get('link')\n",
        "    }\n",
        "    questions.append(question_info)\n",
        "\n",
        "for q in questions:\n",
        "    print(f\"Title: {q['title']}\")\n",
        "    print(f\"Link: {q['link']}\\n\")"
      ],
      "metadata": {
        "colab": {
          "base_uri": "https://localhost:8080/"
        },
        "id": "HgqyTdJMabeT",
        "outputId": "2f5c931c-e9f3-4197-9b9b-4ab5ddf6eba8"
      },
      "execution_count": 16,
      "outputs": [
        {
          "output_type": "stream",
          "name": "stdout",
          "text": [
            "Title: Type Checking in Vite/React Project: Why do I need tsc when tsserver is already working?\n",
            "Link: https://stackoverflow.com/questions/79699180/type-checking-in-vite-react-project-why-do-i-need-tsc-when-tsserver-is-already\n",
            "\n",
            "Title: Django cannot create record with correct foreign key to CharField with spaces in middle - getting surrounded by single and double quotes like &quot;&#39;a a&#39;&quot;\n",
            "Link: https://stackoverflow.com/questions/79699235/django-cannot-create-record-with-correct-foreign-key-to-charfield-with-spaces-in\n",
            "\n",
            "Title: How to properly remove outliers in sensor data?\n",
            "Link: https://stackoverflow.com/questions/79699237/how-to-properly-remove-outliers-in-sensor-data\n",
            "\n",
            "Title: Is there any possible way of using gpu for AI/ML purposes in laptops which dont have nvidia chip set or any other alternative way?\n",
            "Link: https://stackoverflow.com/questions/79699238/is-there-any-possible-way-of-using-gpu-for-ai-ml-purposes-in-laptops-which-dont\n",
            "\n",
            "Title: Java awt TextArea messes up the window size\n",
            "Link: https://stackoverflow.com/questions/79698880/java-awt-textarea-messes-up-the-window-size\n",
            "\n",
            "Title: Not able to call FastMCP server using http or SSE protocol\n",
            "Link: https://stackoverflow.com/questions/79698941/not-able-to-call-fastmcp-server-using-http-or-sse-protocol\n",
            "\n",
            "Title: why Argoworkflows multi-app-docker-build image with kaniko fails\n",
            "Link: https://stackoverflow.com/questions/79699234/why-argoworkflows-multi-app-docker-build-image-with-kaniko-fails\n",
            "\n",
            "Title: Getting write operation failed warning with refs\n",
            "Link: https://stackoverflow.com/questions/77951785/getting-write-operation-failed-warning-with-refs\n",
            "\n",
            "Title: Cleaning VSCode profiles Folder &amp; Workspaces\n",
            "Link: https://stackoverflow.com/questions/79272316/cleaning-vscode-profiles-folder-workspaces\n",
            "\n",
            "Title: Extracting visible text from an epub viewer using epubjs\n",
            "Link: https://stackoverflow.com/questions/79699232/extracting-visible-text-from-an-epub-viewer-using-epubjs\n",
            "\n",
            "Title: Import module installed with npm without node.js\n",
            "Link: https://stackoverflow.com/questions/79699231/import-module-installed-with-npm-without-node-js\n",
            "\n",
            "Title: How to prevent filtered component from re-rendering over and over?\n",
            "Link: https://stackoverflow.com/questions/79674218/how-to-prevent-filtered-component-from-re-rendering-over-and-over\n",
            "\n",
            "Title: Cannot load FastAI .pkl model locally due to missing AMPMode and module version issues\n",
            "Link: https://stackoverflow.com/questions/79698656/cannot-load-fastai-pkl-model-locally-due-to-missing-ampmode-and-module-version\n",
            "\n",
            "Title: SAS: Conditionally summing a column without having the lead funtion\n",
            "Link: https://stackoverflow.com/questions/79696592/sas-conditionally-summing-a-column-without-having-the-lead-funtion\n",
            "\n",
            "Title: Will requests to my site lag and work slowly in django while waiting for celery results?\n",
            "Link: https://stackoverflow.com/questions/79698019/will-requests-to-my-site-lag-and-work-slowly-in-django-while-waiting-for-celery\n",
            "\n",
            "Title: CodeIgniter: Unknown column xxx in ‘where clause’\n",
            "Link: https://stackoverflow.com/questions/1654778/codeigniter-unknown-column-xxx-in-where-clause\n",
            "\n",
            "Title: How to use relative path to get file in C drive but the current program file is in D drive?\n",
            "Link: https://stackoverflow.com/questions/79699163/how-to-use-relative-path-to-get-file-in-c-drive-but-the-current-program-file-is\n",
            "\n",
            "Title: Why does this CMake list variable expansion not behave as expected?\n",
            "Link: https://stackoverflow.com/questions/79693529/why-does-this-cmake-list-variable-expansion-not-behave-as-expected\n",
            "\n",
            "Title: vue data isn`t displayed on a page\n",
            "Link: https://stackoverflow.com/questions/77666567/vue-data-isnt-displayed-on-a-page\n",
            "\n",
            "Title: Is the finish awaited process executed using multi thread or interrupt function in this scenario\n",
            "Link: https://stackoverflow.com/questions/79699227/is-the-finish-awaited-process-executed-using-multi-thread-or-interrupt-function\n",
            "\n",
            "Title: Is it possible to route traffic through another server with HAProxy?\n",
            "Link: https://stackoverflow.com/questions/79693542/is-it-possible-to-route-traffic-through-another-server-with-haproxy\n",
            "\n",
            "Title: Get model in the controller\n",
            "Link: https://stackoverflow.com/questions/43190746/get-model-in-the-controller\n",
            "\n",
            "Title: Laragon + Visual Studio Php Server &amp; Live Server + Live Server Web Extension Not Auto-Reloading Together\n",
            "Link: https://stackoverflow.com/questions/79699197/laragon-visual-studio-php-server-live-server-live-server-web-extension-not\n",
            "\n",
            "Title: Get the url from mozilla firefox\n",
            "Link: https://stackoverflow.com/questions/29557642/get-the-url-from-mozilla-firefox\n",
            "\n",
            "Title: JQuery hide() not work on Mozzila but works on Chrome\n",
            "Link: https://stackoverflow.com/questions/29531727/jquery-hide-not-work-on-mozzila-but-works-on-chrome\n",
            "\n",
            "Title: Inject Javascript in Firefox\n",
            "Link: https://stackoverflow.com/questions/29639448/inject-javascript-in-firefox\n",
            "\n",
            "Title: Refactoring minimal web application pattern into classic full Program.cs with main\n",
            "Link: https://stackoverflow.com/questions/79699143/refactoring-minimal-web-application-pattern-into-classic-full-program-cs-with-ma\n",
            "\n",
            "Title: Firefox addon inline installation from website\n",
            "Link: https://stackoverflow.com/questions/29830253/firefox-addon-inline-installation-from-website\n",
            "\n",
            "Title: Can&#39;t mach build Fennec for Android\n",
            "Link: https://stackoverflow.com/questions/29823431/cant-mach-build-fennec-for-android\n",
            "\n",
            "Title: CodeIgniter renders an invalid query when an empty array is passed into where_in()\n",
            "Link: https://stackoverflow.com/questions/22356372/codeigniter-renders-an-invalid-query-when-an-empty-array-is-passed-into-where-in\n",
            "\n"
          ]
        }
      ]
    },
    {
      "cell_type": "code",
      "source": [
        "print(json.dumps(questions, indent=2))"
      ],
      "metadata": {
        "colab": {
          "base_uri": "https://localhost:8080/"
        },
        "id": "kWHwbkzoco-h",
        "outputId": "cf5a5fdd-a56c-44ca-ef21-5a984777c0bd"
      },
      "execution_count": 23,
      "outputs": [
        {
          "output_type": "stream",
          "name": "stdout",
          "text": [
            "[\n",
            "  {\n",
            "    \"title\": \"Getting write operation failed warning with refs\",\n",
            "    \"link\": \"https://stackoverflow.com/questions/77951785/getting-write-operation-failed-warning-with-refs\",\n",
            "    \"answer_count\": 2\n",
            "  },\n",
            "  {\n",
            "    \"title\": \"how can i code in godot 4.3 that if enemy just see main player then play a animation?\",\n",
            "    \"link\": \"https://stackoverflow.com/questions/79699242/how-can-i-code-in-godot-4-3-that-if-enemy-just-see-main-player-then-play-a-anima\",\n",
            "    \"answer_count\": 0\n",
            "  },\n",
            "  {\n",
            "    \"title\": \"How to get the ID from URL using Playwright?\",\n",
            "    \"link\": \"https://stackoverflow.com/questions/79698928/how-to-get-the-id-from-url-using-playwright\",\n",
            "    \"answer_count\": 1\n",
            "  },\n",
            "  {\n",
            "    \"title\": \"Extracting visible text from an epub viewer using epubjs\",\n",
            "    \"link\": \"https://stackoverflow.com/questions/79699232/extracting-visible-text-from-an-epub-viewer-using-epubjs\",\n",
            "    \"answer_count\": 0\n",
            "  },\n",
            "  {\n",
            "    \"title\": \"Why WebTransport cannot connect to my server?\",\n",
            "    \"link\": \"https://stackoverflow.com/questions/79699241/why-webtransport-cannot-connect-to-my-server\",\n",
            "    \"answer_count\": 0\n",
            "  },\n",
            "  {\n",
            "    \"title\": \"VS Code Python extension injects incorrect start up script oh-my-posh variables with shell integration\",\n",
            "    \"link\": \"https://stackoverflow.com/questions/79699240/vs-code-python-extension-injects-incorrect-start-up-script-oh-my-posh-variables\",\n",
            "    \"answer_count\": 0\n",
            "  },\n",
            "  {\n",
            "    \"title\": \"Is the finish awaited process executed using multi thread or interrupt function in this scenario\",\n",
            "    \"link\": \"https://stackoverflow.com/questions/79699227/is-the-finish-awaited-process-executed-using-multi-thread-or-interrupt-function\",\n",
            "    \"answer_count\": 0\n",
            "  },\n",
            "  {\n",
            "    \"title\": \"Type Checking in Vite/React Project: Why do I need tsc when tsserver is already working?\",\n",
            "    \"link\": \"https://stackoverflow.com/questions/79699180/type-checking-in-vite-react-project-why-do-i-need-tsc-when-tsserver-is-already\",\n",
            "    \"answer_count\": 0\n",
            "  },\n",
            "  {\n",
            "    \"title\": \"Django cannot create record with correct foreign key to CharField with spaces in middle - getting surrounded by single and double quotes like &quot;&#39;a a&#39;&quot;\",\n",
            "    \"link\": \"https://stackoverflow.com/questions/79699235/django-cannot-create-record-with-correct-foreign-key-to-charfield-with-spaces-in\",\n",
            "    \"answer_count\": 1\n",
            "  },\n",
            "  {\n",
            "    \"title\": \"How to properly remove outliers in sensor data?\",\n",
            "    \"link\": \"https://stackoverflow.com/questions/79699237/how-to-properly-remove-outliers-in-sensor-data\",\n",
            "    \"answer_count\": 0\n",
            "  },\n",
            "  {\n",
            "    \"title\": \"Is there any possible way of using gpu for AI/ML purposes in laptops which dont have nvidia chip set or any other alternative way?\",\n",
            "    \"link\": \"https://stackoverflow.com/questions/79699238/is-there-any-possible-way-of-using-gpu-for-ai-ml-purposes-in-laptops-which-dont\",\n",
            "    \"answer_count\": 0\n",
            "  },\n",
            "  {\n",
            "    \"title\": \"Java awt TextArea messes up the window size\",\n",
            "    \"link\": \"https://stackoverflow.com/questions/79698880/java-awt-textarea-messes-up-the-window-size\",\n",
            "    \"answer_count\": 0\n",
            "  },\n",
            "  {\n",
            "    \"title\": \"Not able to call FastMCP server using http or SSE protocol\",\n",
            "    \"link\": \"https://stackoverflow.com/questions/79698941/not-able-to-call-fastmcp-server-using-http-or-sse-protocol\",\n",
            "    \"answer_count\": 0\n",
            "  },\n",
            "  {\n",
            "    \"title\": \"why Argoworkflows multi-app-docker-build image with kaniko fails\",\n",
            "    \"link\": \"https://stackoverflow.com/questions/79699234/why-argoworkflows-multi-app-docker-build-image-with-kaniko-fails\",\n",
            "    \"answer_count\": 0\n",
            "  },\n",
            "  {\n",
            "    \"title\": \"Cleaning VSCode profiles Folder &amp; Workspaces\",\n",
            "    \"link\": \"https://stackoverflow.com/questions/79272316/cleaning-vscode-profiles-folder-workspaces\",\n",
            "    \"answer_count\": 2\n",
            "  },\n",
            "  {\n",
            "    \"title\": \"Import module installed with npm without node.js\",\n",
            "    \"link\": \"https://stackoverflow.com/questions/79699231/import-module-installed-with-npm-without-node-js\",\n",
            "    \"answer_count\": 0\n",
            "  },\n",
            "  {\n",
            "    \"title\": \"How to prevent filtered component from re-rendering over and over?\",\n",
            "    \"link\": \"https://stackoverflow.com/questions/79674218/how-to-prevent-filtered-component-from-re-rendering-over-and-over\",\n",
            "    \"answer_count\": 2\n",
            "  },\n",
            "  {\n",
            "    \"title\": \"Cannot load FastAI .pkl model locally due to missing AMPMode and module version issues\",\n",
            "    \"link\": \"https://stackoverflow.com/questions/79698656/cannot-load-fastai-pkl-model-locally-due-to-missing-ampmode-and-module-version\",\n",
            "    \"answer_count\": 1\n",
            "  },\n",
            "  {\n",
            "    \"title\": \"SAS: Conditionally summing a column without having the lead funtion\",\n",
            "    \"link\": \"https://stackoverflow.com/questions/79696592/sas-conditionally-summing-a-column-without-having-the-lead-funtion\",\n",
            "    \"answer_count\": 2\n",
            "  },\n",
            "  {\n",
            "    \"title\": \"Will requests to my site lag and work slowly in django while waiting for celery results?\",\n",
            "    \"link\": \"https://stackoverflow.com/questions/79698019/will-requests-to-my-site-lag-and-work-slowly-in-django-while-waiting-for-celery\",\n",
            "    \"answer_count\": 0\n",
            "  },\n",
            "  {\n",
            "    \"title\": \"CodeIgniter: Unknown column xxx in \\u2018where clause\\u2019\",\n",
            "    \"link\": \"https://stackoverflow.com/questions/1654778/codeigniter-unknown-column-xxx-in-where-clause\",\n",
            "    \"answer_count\": 1\n",
            "  },\n",
            "  {\n",
            "    \"title\": \"How to use relative path to get file in C drive but the current program file is in D drive?\",\n",
            "    \"link\": \"https://stackoverflow.com/questions/79699163/how-to-use-relative-path-to-get-file-in-c-drive-but-the-current-program-file-is\",\n",
            "    \"answer_count\": 0\n",
            "  },\n",
            "  {\n",
            "    \"title\": \"Why does this CMake list variable expansion not behave as expected?\",\n",
            "    \"link\": \"https://stackoverflow.com/questions/79693529/why-does-this-cmake-list-variable-expansion-not-behave-as-expected\",\n",
            "    \"answer_count\": 0\n",
            "  },\n",
            "  {\n",
            "    \"title\": \"vue data isn`t displayed on a page\",\n",
            "    \"link\": \"https://stackoverflow.com/questions/77666567/vue-data-isnt-displayed-on-a-page\",\n",
            "    \"answer_count\": 1\n",
            "  },\n",
            "  {\n",
            "    \"title\": \"Is it possible to route traffic through another server with HAProxy?\",\n",
            "    \"link\": \"https://stackoverflow.com/questions/79693542/is-it-possible-to-route-traffic-through-another-server-with-haproxy\",\n",
            "    \"answer_count\": 1\n",
            "  },\n",
            "  {\n",
            "    \"title\": \"Get model in the controller\",\n",
            "    \"link\": \"https://stackoverflow.com/questions/43190746/get-model-in-the-controller\",\n",
            "    \"answer_count\": 1\n",
            "  },\n",
            "  {\n",
            "    \"title\": \"Laragon + Visual Studio Php Server &amp; Live Server + Live Server Web Extension Not Auto-Reloading Together\",\n",
            "    \"link\": \"https://stackoverflow.com/questions/79699197/laragon-visual-studio-php-server-live-server-live-server-web-extension-not\",\n",
            "    \"answer_count\": 1\n",
            "  },\n",
            "  {\n",
            "    \"title\": \"Get the url from mozilla firefox\",\n",
            "    \"link\": \"https://stackoverflow.com/questions/29557642/get-the-url-from-mozilla-firefox\",\n",
            "    \"answer_count\": 0\n",
            "  },\n",
            "  {\n",
            "    \"title\": \"JQuery hide() not work on Mozzila but works on Chrome\",\n",
            "    \"link\": \"https://stackoverflow.com/questions/29531727/jquery-hide-not-work-on-mozzila-but-works-on-chrome\",\n",
            "    \"answer_count\": 3\n",
            "  },\n",
            "  {\n",
            "    \"title\": \"Inject Javascript in Firefox\",\n",
            "    \"link\": \"https://stackoverflow.com/questions/29639448/inject-javascript-in-firefox\",\n",
            "    \"answer_count\": 1\n",
            "  }\n",
            "]\n"
          ]
        }
      ]
    },
    {
      "cell_type": "code",
      "source": [
        "if response.status_code == 200:\n",
        "    data = response.json()\n",
        "\n",
        "    questions = []\n",
        "    unanswered_count = 0  # Counter for unanswered questions\n",
        "\n",
        "    for item in data.get('items', []):\n",
        "        question_info = {\n",
        "            'title': item.get('title'),\n",
        "            'link': item.get('link'),\n",
        "            'answer_count': item.get('answer_count')\n",
        "        }\n",
        "        questions.append(question_info)\n",
        "        if item.get('answer_count') == 0:\n",
        "            unanswered_count += 1\n",
        "    for q in questions:\n",
        "        display(HTML(f\"<a href='{q['link']}' target='_blank'>{q['title']} (Answers: {q['answer_count']})</a>\"))\n",
        "    print(f\"\\nTotal questions with no answers: {unanswered_count}\")\n",
        "\n",
        "else:\n",
        "    print(f\"Error fetching data: {response.status_code}\")\n"
      ],
      "metadata": {
        "colab": {
          "base_uri": "https://localhost:8080/",
          "height": 608
        },
        "id": "1cg-YZMMctmc",
        "outputId": "2f913f6d-5e13-4483-a73c-3550cbaff428"
      },
      "execution_count": 21,
      "outputs": [
        {
          "output_type": "display_data",
          "data": {
            "text/plain": [
              "<IPython.core.display.HTML object>"
            ],
            "text/html": [
              "<a href='https://stackoverflow.com/questions/77951785/getting-write-operation-failed-warning-with-refs' target='_blank'>Getting write operation failed warning with refs (Answers: 2)</a>"
            ]
          },
          "metadata": {}
        },
        {
          "output_type": "display_data",
          "data": {
            "text/plain": [
              "<IPython.core.display.HTML object>"
            ],
            "text/html": [
              "<a href='https://stackoverflow.com/questions/79699242/how-can-i-code-in-godot-4-3-that-if-enemy-just-see-main-player-then-play-a-anima' target='_blank'>how can i code in godot 4.3 that if enemy just see main player then play a animation? (Answers: 0)</a>"
            ]
          },
          "metadata": {}
        },
        {
          "output_type": "display_data",
          "data": {
            "text/plain": [
              "<IPython.core.display.HTML object>"
            ],
            "text/html": [
              "<a href='https://stackoverflow.com/questions/79698928/how-to-get-the-id-from-url-using-playwright' target='_blank'>How to get the ID from URL using Playwright? (Answers: 1)</a>"
            ]
          },
          "metadata": {}
        },
        {
          "output_type": "display_data",
          "data": {
            "text/plain": [
              "<IPython.core.display.HTML object>"
            ],
            "text/html": [
              "<a href='https://stackoverflow.com/questions/79699232/extracting-visible-text-from-an-epub-viewer-using-epubjs' target='_blank'>Extracting visible text from an epub viewer using epubjs (Answers: 0)</a>"
            ]
          },
          "metadata": {}
        },
        {
          "output_type": "display_data",
          "data": {
            "text/plain": [
              "<IPython.core.display.HTML object>"
            ],
            "text/html": [
              "<a href='https://stackoverflow.com/questions/79699241/why-webtransport-cannot-connect-to-my-server' target='_blank'>Why WebTransport cannot connect to my server? (Answers: 0)</a>"
            ]
          },
          "metadata": {}
        },
        {
          "output_type": "display_data",
          "data": {
            "text/plain": [
              "<IPython.core.display.HTML object>"
            ],
            "text/html": [
              "<a href='https://stackoverflow.com/questions/79699240/vs-code-python-extension-injects-incorrect-start-up-script-oh-my-posh-variables' target='_blank'>VS Code Python extension injects incorrect start up script oh-my-posh variables with shell integration (Answers: 0)</a>"
            ]
          },
          "metadata": {}
        },
        {
          "output_type": "display_data",
          "data": {
            "text/plain": [
              "<IPython.core.display.HTML object>"
            ],
            "text/html": [
              "<a href='https://stackoverflow.com/questions/79699227/is-the-finish-awaited-process-executed-using-multi-thread-or-interrupt-function' target='_blank'>Is the finish awaited process executed using multi thread or interrupt function in this scenario (Answers: 0)</a>"
            ]
          },
          "metadata": {}
        },
        {
          "output_type": "display_data",
          "data": {
            "text/plain": [
              "<IPython.core.display.HTML object>"
            ],
            "text/html": [
              "<a href='https://stackoverflow.com/questions/79699180/type-checking-in-vite-react-project-why-do-i-need-tsc-when-tsserver-is-already' target='_blank'>Type Checking in Vite/React Project: Why do I need tsc when tsserver is already working? (Answers: 0)</a>"
            ]
          },
          "metadata": {}
        },
        {
          "output_type": "display_data",
          "data": {
            "text/plain": [
              "<IPython.core.display.HTML object>"
            ],
            "text/html": [
              "<a href='https://stackoverflow.com/questions/79699235/django-cannot-create-record-with-correct-foreign-key-to-charfield-with-spaces-in' target='_blank'>Django cannot create record with correct foreign key to CharField with spaces in middle - getting surrounded by single and double quotes like &quot;&#39;a a&#39;&quot; (Answers: 1)</a>"
            ]
          },
          "metadata": {}
        },
        {
          "output_type": "display_data",
          "data": {
            "text/plain": [
              "<IPython.core.display.HTML object>"
            ],
            "text/html": [
              "<a href='https://stackoverflow.com/questions/79699237/how-to-properly-remove-outliers-in-sensor-data' target='_blank'>How to properly remove outliers in sensor data? (Answers: 0)</a>"
            ]
          },
          "metadata": {}
        },
        {
          "output_type": "display_data",
          "data": {
            "text/plain": [
              "<IPython.core.display.HTML object>"
            ],
            "text/html": [
              "<a href='https://stackoverflow.com/questions/79699238/is-there-any-possible-way-of-using-gpu-for-ai-ml-purposes-in-laptops-which-dont' target='_blank'>Is there any possible way of using gpu for AI/ML purposes in laptops which dont have nvidia chip set or any other alternative way? (Answers: 0)</a>"
            ]
          },
          "metadata": {}
        },
        {
          "output_type": "display_data",
          "data": {
            "text/plain": [
              "<IPython.core.display.HTML object>"
            ],
            "text/html": [
              "<a href='https://stackoverflow.com/questions/79698880/java-awt-textarea-messes-up-the-window-size' target='_blank'>Java awt TextArea messes up the window size (Answers: 0)</a>"
            ]
          },
          "metadata": {}
        },
        {
          "output_type": "display_data",
          "data": {
            "text/plain": [
              "<IPython.core.display.HTML object>"
            ],
            "text/html": [
              "<a href='https://stackoverflow.com/questions/79698941/not-able-to-call-fastmcp-server-using-http-or-sse-protocol' target='_blank'>Not able to call FastMCP server using http or SSE protocol (Answers: 0)</a>"
            ]
          },
          "metadata": {}
        },
        {
          "output_type": "display_data",
          "data": {
            "text/plain": [
              "<IPython.core.display.HTML object>"
            ],
            "text/html": [
              "<a href='https://stackoverflow.com/questions/79699234/why-argoworkflows-multi-app-docker-build-image-with-kaniko-fails' target='_blank'>why Argoworkflows multi-app-docker-build image with kaniko fails (Answers: 0)</a>"
            ]
          },
          "metadata": {}
        },
        {
          "output_type": "display_data",
          "data": {
            "text/plain": [
              "<IPython.core.display.HTML object>"
            ],
            "text/html": [
              "<a href='https://stackoverflow.com/questions/79272316/cleaning-vscode-profiles-folder-workspaces' target='_blank'>Cleaning VSCode profiles Folder &amp; Workspaces (Answers: 2)</a>"
            ]
          },
          "metadata": {}
        },
        {
          "output_type": "display_data",
          "data": {
            "text/plain": [
              "<IPython.core.display.HTML object>"
            ],
            "text/html": [
              "<a href='https://stackoverflow.com/questions/79699231/import-module-installed-with-npm-without-node-js' target='_blank'>Import module installed with npm without node.js (Answers: 0)</a>"
            ]
          },
          "metadata": {}
        },
        {
          "output_type": "display_data",
          "data": {
            "text/plain": [
              "<IPython.core.display.HTML object>"
            ],
            "text/html": [
              "<a href='https://stackoverflow.com/questions/79674218/how-to-prevent-filtered-component-from-re-rendering-over-and-over' target='_blank'>How to prevent filtered component from re-rendering over and over? (Answers: 2)</a>"
            ]
          },
          "metadata": {}
        },
        {
          "output_type": "display_data",
          "data": {
            "text/plain": [
              "<IPython.core.display.HTML object>"
            ],
            "text/html": [
              "<a href='https://stackoverflow.com/questions/79698656/cannot-load-fastai-pkl-model-locally-due-to-missing-ampmode-and-module-version' target='_blank'>Cannot load FastAI .pkl model locally due to missing AMPMode and module version issues (Answers: 1)</a>"
            ]
          },
          "metadata": {}
        },
        {
          "output_type": "display_data",
          "data": {
            "text/plain": [
              "<IPython.core.display.HTML object>"
            ],
            "text/html": [
              "<a href='https://stackoverflow.com/questions/79696592/sas-conditionally-summing-a-column-without-having-the-lead-funtion' target='_blank'>SAS: Conditionally summing a column without having the lead funtion (Answers: 2)</a>"
            ]
          },
          "metadata": {}
        },
        {
          "output_type": "display_data",
          "data": {
            "text/plain": [
              "<IPython.core.display.HTML object>"
            ],
            "text/html": [
              "<a href='https://stackoverflow.com/questions/79698019/will-requests-to-my-site-lag-and-work-slowly-in-django-while-waiting-for-celery' target='_blank'>Will requests to my site lag and work slowly in django while waiting for celery results? (Answers: 0)</a>"
            ]
          },
          "metadata": {}
        },
        {
          "output_type": "display_data",
          "data": {
            "text/plain": [
              "<IPython.core.display.HTML object>"
            ],
            "text/html": [
              "<a href='https://stackoverflow.com/questions/1654778/codeigniter-unknown-column-xxx-in-where-clause' target='_blank'>CodeIgniter: Unknown column xxx in ‘where clause’ (Answers: 1)</a>"
            ]
          },
          "metadata": {}
        },
        {
          "output_type": "display_data",
          "data": {
            "text/plain": [
              "<IPython.core.display.HTML object>"
            ],
            "text/html": [
              "<a href='https://stackoverflow.com/questions/79699163/how-to-use-relative-path-to-get-file-in-c-drive-but-the-current-program-file-is' target='_blank'>How to use relative path to get file in C drive but the current program file is in D drive? (Answers: 0)</a>"
            ]
          },
          "metadata": {}
        },
        {
          "output_type": "display_data",
          "data": {
            "text/plain": [
              "<IPython.core.display.HTML object>"
            ],
            "text/html": [
              "<a href='https://stackoverflow.com/questions/79693529/why-does-this-cmake-list-variable-expansion-not-behave-as-expected' target='_blank'>Why does this CMake list variable expansion not behave as expected? (Answers: 0)</a>"
            ]
          },
          "metadata": {}
        },
        {
          "output_type": "display_data",
          "data": {
            "text/plain": [
              "<IPython.core.display.HTML object>"
            ],
            "text/html": [
              "<a href='https://stackoverflow.com/questions/77666567/vue-data-isnt-displayed-on-a-page' target='_blank'>vue data isn`t displayed on a page (Answers: 1)</a>"
            ]
          },
          "metadata": {}
        },
        {
          "output_type": "display_data",
          "data": {
            "text/plain": [
              "<IPython.core.display.HTML object>"
            ],
            "text/html": [
              "<a href='https://stackoverflow.com/questions/79693542/is-it-possible-to-route-traffic-through-another-server-with-haproxy' target='_blank'>Is it possible to route traffic through another server with HAProxy? (Answers: 1)</a>"
            ]
          },
          "metadata": {}
        },
        {
          "output_type": "display_data",
          "data": {
            "text/plain": [
              "<IPython.core.display.HTML object>"
            ],
            "text/html": [
              "<a href='https://stackoverflow.com/questions/43190746/get-model-in-the-controller' target='_blank'>Get model in the controller (Answers: 1)</a>"
            ]
          },
          "metadata": {}
        },
        {
          "output_type": "display_data",
          "data": {
            "text/plain": [
              "<IPython.core.display.HTML object>"
            ],
            "text/html": [
              "<a href='https://stackoverflow.com/questions/79699197/laragon-visual-studio-php-server-live-server-live-server-web-extension-not' target='_blank'>Laragon + Visual Studio Php Server &amp; Live Server + Live Server Web Extension Not Auto-Reloading Together (Answers: 1)</a>"
            ]
          },
          "metadata": {}
        },
        {
          "output_type": "display_data",
          "data": {
            "text/plain": [
              "<IPython.core.display.HTML object>"
            ],
            "text/html": [
              "<a href='https://stackoverflow.com/questions/29557642/get-the-url-from-mozilla-firefox' target='_blank'>Get the url from mozilla firefox (Answers: 0)</a>"
            ]
          },
          "metadata": {}
        },
        {
          "output_type": "display_data",
          "data": {
            "text/plain": [
              "<IPython.core.display.HTML object>"
            ],
            "text/html": [
              "<a href='https://stackoverflow.com/questions/29531727/jquery-hide-not-work-on-mozzila-but-works-on-chrome' target='_blank'>JQuery hide() not work on Mozzila but works on Chrome (Answers: 3)</a>"
            ]
          },
          "metadata": {}
        },
        {
          "output_type": "display_data",
          "data": {
            "text/plain": [
              "<IPython.core.display.HTML object>"
            ],
            "text/html": [
              "<a href='https://stackoverflow.com/questions/29639448/inject-javascript-in-firefox' target='_blank'>Inject Javascript in Firefox (Answers: 1)</a>"
            ]
          },
          "metadata": {}
        },
        {
          "output_type": "stream",
          "name": "stdout",
          "text": [
            "\n",
            "Total questions with no answers: 16\n"
          ]
        }
      ]
    },
    {
      "cell_type": "code",
      "source": [],
      "metadata": {
        "id": "RgvXQRTKePII"
      },
      "execution_count": null,
      "outputs": []
    }
  ]
}